{
 "cells": [
  {
   "cell_type": "code",
   "execution_count": 11,
   "metadata": {},
   "outputs": [],
   "source": [
    "import pandas as pd\n",
    "import numpy as np\n"
   ]
  },
  {
   "cell_type": "code",
   "execution_count": 22,
   "metadata": {},
   "outputs": [],
   "source": [
    "df = pd.read_csv(\"../6_integrated_cleaned/integration_cleaned_conc_definitive.csv\")"
   ]
  },
  {
   "cell_type": "code",
   "execution_count": 23,
   "metadata": {},
   "outputs": [
    {
     "name": "stdout",
     "output_type": "stream",
     "text": [
      "Circolo Arci BellezzaVia Giovanni Bellezza 16, 20136 Milano Italia - 2 occurrences\n",
      "Long YuanVia Lorenteggio 43, 20146 Milano Italia - 2 occurrences\n",
      "Bar Viale CertosaViale Certosa 125, 20151 Milano Italia - 2 occurrences\n",
      "Hot PotVia Paolo Lomazzo 17, 20154 Milano Italia - 2 occurrences\n",
      "Burgez Corso Como 2Corso Como 2, 20154 Milano Italia - 2 occurrences\n",
      "Poke House - FiammaVia Galvano Fiamma, 5, 20129 Milano Italia - 2 occurrences\n",
      "Il Cappellaio MattoVia, Ripa Di Porta Ticinese, 51, 20143 Milano Mi, 20143 Milano Italia - 2 occurrences\n",
      "Ham Holy Burger - Milano, viale BlignyViale Bligny 39, 20136 Milano Italia - 2 occurrences\n",
      "CHICCO BistrotAngolo Piazza Meda  Via Adalberto Catena 2 Angolo piazza meda, 20121 Milano Italia - 2 occurrences\n",
      "Caffe Ambrosiano Bar tavola freddaVia San Vittore, di fronte Ospedale San Giuseppe, Milano Italia - 2 occurrences\n",
      "Isola Verde La PizzaVia Mario Morgantini Angolo, 20148 Milano Italia - 2 occurrences\n",
      "I Due Poeti CaffétteriaPiazza Luigi Vittorio Bertarelli 4, 20122 Milano Italia - 2 occurrences\n",
      "BarlafusLargo Vulci, 7, 20159 Milano Italia - 2 occurrences\n",
      "Great American GrillVia Lucio Giunio Columella, 36, 20128 Milano Italia - 2 occurrences\n"
     ]
    }
   ],
   "source": [
    "#UNICITY\n",
    "df['combined'] = df['name'] + df['address']\n",
    "\n",
    "# Find duplicates considering name and address\n",
    "duplicates = df[df.duplicated(subset='combined', keep=False)]\n",
    "duplicate_counts = duplicates['combined'].value_counts()\n",
    "\n",
    "\n",
    "for value, count in duplicate_counts.items():\n",
    "    print(f'{value} - {count} occurrences')"
   ]
  },
  {
   "cell_type": "code",
   "execution_count": 19,
   "metadata": {},
   "outputs": [],
   "source": [
    "#drop duplicates\n",
    "df['combined'] = df['name'] + df['address']\n",
    "\n",
    "# Drop duplicates and keep the first occurrence\n",
    "df.drop_duplicates(subset='combined', keep='first', inplace=True)\n",
    "\n",
    "# Remove the 'combined' column\n",
    "df.drop('combined', axis=1, inplace=True)\n",
    "\n",
    "# Find duplicates again and count occurrences\n",
    "duplicates = df[df.duplicated(subset=['name', 'address'], keep=False)]\n",
    "duplicate_counts = duplicates.groupby(['name', 'address']).size().reset_index(name='occurrences')\n",
    "\n",
    "# Print duplicates and their counts\n",
    "for _, row in duplicate_counts.iterrows():\n",
    "    value1 = row['name']\n",
    "    value2 = row['address']\n",
    "    occurrences = row['occurrences']\n",
    "    print(f'{value1} - {value2} - {occurrences} occurrences')\n",
    "\n"
   ]
  },
  {
   "cell_type": "code",
   "execution_count": 30,
   "metadata": {},
   "outputs": [
    {
     "name": "stdout",
     "output_type": "stream",
     "text": [
      "+---------------+--------------+------------------+\n",
      "| Column Name   |   Null Count |   Non-Null Count |\n",
      "+===============+==============+==================+\n",
      "| id            |            0 |             6971 |\n",
      "+---------------+--------------+------------------+\n",
      "| name          |            0 |             6971 |\n",
      "+---------------+--------------+------------------+\n",
      "| cook_type     |          936 |             6035 |\n",
      "+---------------+--------------+------------------+\n",
      "| address       |            9 |             6962 |\n",
      "+---------------+--------------+------------------+\n",
      "| latitude      |          920 |             6051 |\n",
      "+---------------+--------------+------------------+\n",
      "| longitude     |          920 |             6051 |\n",
      "+---------------+--------------+------------------+\n",
      "| rating        |          770 |             6201 |\n",
      "+---------------+--------------+------------------+\n",
      "| price_level   |         1811 |             5160 |\n",
      "+---------------+--------------+------------------+\n",
      "| total_reviews |            0 |             6971 |\n",
      "+---------------+--------------+------------------+\n",
      "| reviews       |            2 |             6969 |\n",
      "+---------------+--------------+------------------+\n"
     ]
    }
   ],
   "source": [
    "#COMPLETNESS\n",
    "from tabulate import tabulate\n",
    "df.rename(columns={'Unnamed: 0': 'id'}, inplace=True)\n",
    "#df.drop('combined', axis=1, inplace=True)\n",
    "\n",
    "\n",
    "null_counts = df.isnull().sum()\n",
    "not_null_counts = df.notnull().sum()\n",
    "\n",
    "table = []\n",
    "for column in df.columns:\n",
    "    null_count = null_counts[column]\n",
    "    not_null_count = not_null_counts[column]\n",
    "    table.append([column, null_count, not_null_count])\n",
    "\n",
    "# Print the table\n",
    "headers = ['Column Name', 'Null Count', 'Non-Null Count']\n",
    "print(tabulate(table, headers, tablefmt='grid'))"
   ]
  },
  {
   "cell_type": "code",
   "execution_count": null,
   "metadata": {},
   "outputs": [],
   "source": [
    "df.dropna(subset=['address'], inplace=True)\n"
   ]
  }
 ],
 "metadata": {
  "kernelspec": {
   "display_name": "base",
   "language": "python",
   "name": "python3"
  },
  "language_info": {
   "codemirror_mode": {
    "name": "ipython",
    "version": 3
   },
   "file_extension": ".py",
   "mimetype": "text/x-python",
   "name": "python",
   "nbconvert_exporter": "python",
   "pygments_lexer": "ipython3",
   "version": "3.10.9"
  },
  "orig_nbformat": 4
 },
 "nbformat": 4,
 "nbformat_minor": 2
}
