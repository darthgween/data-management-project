{
 "cells": [
  {
   "cell_type": "code",
   "execution_count": null,
   "metadata": {},
   "outputs": [],
   "source": [
    "import pandas as pd"
   ]
  },
  {
   "cell_type": "code",
   "execution_count": 31,
   "metadata": {},
   "outputs": [
    {
     "ename": "TypeError",
     "evalue": "'str' object is not callable",
     "output_type": "error",
     "traceback": [
      "\u001b[1;31m---------------------------------------------------------------------------\u001b[0m",
      "\u001b[1;31mTypeError\u001b[0m                                 Traceback (most recent call last)",
      "Cell \u001b[1;32mIn[31], line 4\u001b[0m\n\u001b[0;32m      1\u001b[0m file_path1 \u001b[39m=\u001b[39m \u001b[39m\"\u001b[39m\u001b[39mC:/Users/pc/Desktop/progetti data management/data-management-project/output_integration/not_found_trip.xlsx\u001b[39m\u001b[39m\"\u001b[39m\n\u001b[0;32m      2\u001b[0m file_path2 \u001b[39m=\u001b[39m \u001b[39m\"\u001b[39m\u001b[39mC:/Users/pc/Desktop/progetti data management/data-management-project/output_integration/integration_definitive.xlsx\u001b[39m\u001b[39m\"\u001b[39m\n\u001b[1;32m----> 4\u001b[0m df1 \u001b[39m=\u001b[39m pd\u001b[39m.\u001b[39;49mread_excel(file_path1)\n\u001b[0;32m      5\u001b[0m df2 \u001b[39m=\u001b[39m pd\u001b[39m.\u001b[39mread_excel(file_path2)\n",
      "\u001b[1;31mTypeError\u001b[0m: 'str' object is not callable"
     ]
    }
   ],
   "source": [
    "file_path1 = \"C:/Users/pc/Desktop/progetti data management/data-management-project/output_integration/not_found_trip.xlsx\"\n",
    "file_path2 = \"C:/Users/pc/Desktop/progetti data management/data-management-project/output_integration/integration_definitive.xlsx\"\n",
    "\n",
    "df1 = pd.read_excel(file_path1)\n",
    "df2 = pd.read_excel(file_path2)\n"
   ]
  },
  {
   "cell_type": "code",
   "execution_count": 5,
   "metadata": {},
   "outputs": [
    {
     "data": {
      "text/plain": [
       "'C:/Users/pc/Desktop/progetti data management/data-management-project/output_integration/not_found_trip.xlsx'"
      ]
     },
     "execution_count": 5,
     "metadata": {},
     "output_type": "execute_result"
    }
   ],
   "source": [
    "not_found"
   ]
  }
 ],
 "metadata": {
  "kernelspec": {
   "display_name": "Python 3",
   "language": "python",
   "name": "python3"
  },
  "language_info": {
   "codemirror_mode": {
    "name": "ipython",
    "version": 3
   },
   "file_extension": ".py",
   "mimetype": "text/x-python",
   "name": "python",
   "nbconvert_exporter": "python",
   "pygments_lexer": "ipython3",
   "version": "3.11.0rc2"
  },
  "orig_nbformat": 4
 },
 "nbformat": 4,
 "nbformat_minor": 2
}
